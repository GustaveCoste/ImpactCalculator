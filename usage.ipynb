{
 "cells": [
  {
   "cell_type": "code",
   "id": "initial_id",
   "metadata": {
    "collapsed": true,
    "ExecuteTime": {
     "end_time": "2024-09-24T07:34:50.552085Z",
     "start_time": "2024-09-24T07:34:50.420173Z"
    }
   },
   "source": [
    "from models import BaseProduct, AmountWithNoUncertainty\n",
    "\n",
    "base_product = BaseProduct(\n",
    "    name=\"base_product\",\n",
    "    unit=\"kg\",\n",
    "    impact=AmountWithNoUncertainty(2)\n",
    ")\n",
    "\n",
    "base_product.draw_impact()"
   ],
   "outputs": [
    {
     "data": {
      "text/plain": [
       "2"
      ]
     },
     "execution_count": 1,
     "metadata": {},
     "output_type": "execute_result"
    }
   ],
   "execution_count": 1
  },
  {
   "metadata": {
    "ExecuteTime": {
     "end_time": "2024-09-24T07:34:55.956508Z",
     "start_time": "2024-09-24T07:34:55.940882Z"
    }
   },
   "cell_type": "code",
   "source": [
    "from models import AmountWithPedigreeUncertainty\n",
    "\n",
    "other_base_product = BaseProduct(\n",
    "    name=\"other_base_product\",\n",
    "    unit=\"kg\",\n",
    "    impact=AmountWithPedigreeUncertainty(\n",
    "        value=3,\n",
    "        reliability=2,\n",
    "        completeness=2,\n",
    "        temporal_correlation=1,\n",
    "        geographical_correlation=4,\n",
    "        technological_correlation=2,\n",
    "    )\n",
    ")\n",
    "\n",
    "other_base_product.draw_impact()"
   ],
   "id": "4929a6d06a8dada8",
   "outputs": [
    {
     "data": {
      "text/plain": [
       "2.9399926848208464"
      ]
     },
     "execution_count": 5,
     "metadata": {},
     "output_type": "execute_result"
    }
   ],
   "execution_count": 5
  },
  {
   "metadata": {
    "ExecuteTime": {
     "end_time": "2024-09-24T07:41:24.163561Z",
     "start_time": "2024-09-24T07:41:24.141900Z"
    }
   },
   "cell_type": "code",
   "source": [
    "from models import ProductUsage, CompoundProduct\n",
    "\n",
    "compound_product = CompoundProduct(\n",
    "    name=\"compound_product\",\n",
    "    unit=\"kg\",\n",
    "    usages=[\n",
    "        ProductUsage(\n",
    "            product=base_product,\n",
    "            amount=AmountWithPedigreeUncertainty(\n",
    "                value=15,\n",
    "                reliability=1,\n",
    "                completeness=1,\n",
    "                temporal_correlation=1,\n",
    "                geographical_correlation=3,\n",
    "                technological_correlation=3,\n",
    "            ),\n",
    "        ),\n",
    "        ProductUsage(\n",
    "            product=other_base_product,\n",
    "            amount=AmountWithPedigreeUncertainty(\n",
    "                value=3,\n",
    "                reliability=3,\n",
    "                completeness=1,\n",
    "                temporal_correlation=1,\n",
    "                geographical_correlation=3,\n",
    "                technological_correlation=3,\n",
    "            ),\n",
    "        )\n",
    "    ]\n",
    ")\n",
    "\n",
    "compound_product.draw_impact()"
   ],
   "id": "7a4500a13a803f6c",
   "outputs": [
    {
     "data": {
      "text/plain": [
       "42.19707767023075"
      ]
     },
     "execution_count": 7,
     "metadata": {},
     "output_type": "execute_result"
    }
   ],
   "execution_count": 7
  },
  {
   "metadata": {
    "ExecuteTime": {
     "end_time": "2024-09-24T07:43:52.278093Z",
     "start_time": "2024-09-24T07:43:52.246336Z"
    }
   },
   "cell_type": "code",
   "source": [
    "other_compound_product = CompoundProduct(\n",
    "    name=\"compound_product\",\n",
    "    unit=\"kg\",\n",
    "    usages=[\n",
    "        ProductUsage(\n",
    "            product=compound_product,\n",
    "            amount=AmountWithPedigreeUncertainty(\n",
    "                value=15,\n",
    "                reliability=1,\n",
    "                completeness=1,\n",
    "                temporal_correlation=1,\n",
    "                geographical_correlation=3,\n",
    "                technological_correlation=3,\n",
    "            ),\n",
    "        ),\n",
    "        ProductUsage(\n",
    "            product=other_base_product,\n",
    "            amount=AmountWithPedigreeUncertainty(\n",
    "                value=0.5,\n",
    "                reliability=3,\n",
    "                completeness=1,\n",
    "                temporal_correlation=1,\n",
    "                geographical_correlation=3,\n",
    "                technological_correlation=3,\n",
    "            ),\n",
    "        )\n",
    "    ]\n",
    ")\n",
    "\n",
    "other_compound_product.draw_impact()"
   ],
   "id": "2539574151eac0be",
   "outputs": [
    {
     "data": {
      "text/plain": [
       "516.5193115691474"
      ]
     },
     "execution_count": 9,
     "metadata": {},
     "output_type": "execute_result"
    }
   ],
   "execution_count": 9
  },
  {
   "metadata": {},
   "cell_type": "code",
   "outputs": [],
   "execution_count": null,
   "source": "",
   "id": "4efd70dc67b3f894"
  }
 ],
 "metadata": {
  "kernelspec": {
   "display_name": "Python 3",
   "language": "python",
   "name": "python3"
  },
  "language_info": {
   "codemirror_mode": {
    "name": "ipython",
    "version": 2
   },
   "file_extension": ".py",
   "mimetype": "text/x-python",
   "name": "python",
   "nbconvert_exporter": "python",
   "pygments_lexer": "ipython2",
   "version": "2.7.6"
  }
 },
 "nbformat": 4,
 "nbformat_minor": 5
}
